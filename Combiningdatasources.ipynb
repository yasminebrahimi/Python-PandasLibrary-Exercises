{
 "cells": [
  {
   "cell_type": "code",
   "execution_count": null,
   "metadata": {},
   "outputs": [],
   "source": [
    "# Create Orders DataFrame\n",
    "\n",
    "portions_data1 = {'order_id': [2, 1, 3], 'item_name': ['Burger', 'Pizza', 'Salad'], 'quantity': [2, 1, 3]}\n",
    "\n",
    "orders_df = pd.DataFrame(portions_data1)\n",
    "\n",
    "# Create Portions DataFrame\n",
    "\n",
    "portions_data2 = {'order_id': [4, 6, 5], 'item_name': ['Soup', 'Burger', 'Wok'], 'quantity': [1, 3, 4]}\n",
    "\n",
    "portions_df = pd.DataFrame(portions_data2)\n",
    "\n",
    "# Use code above to create two small datasets. Combine them with concat."
   ]
  },
  {
   "cell_type": "code",
   "execution_count": null,
   "metadata": {},
   "outputs": [],
   "source": []
  }
 ],
 "metadata": {
  "language_info": {
   "name": "python"
  }
 },
 "nbformat": 4,
 "nbformat_minor": 2
}
