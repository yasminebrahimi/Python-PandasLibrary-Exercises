{
 "cells": [
  {
   "cell_type": "code",
   "execution_count": 1,
   "metadata": {},
   "outputs": [
    {
     "name": "stdout",
     "output_type": "stream",
     "text": [
      "Whole List:\n",
      "['table', 'chair', 'shelf', 'sofa', 'lamp']\n",
      "/nFirst Two Elements:\n",
      "['table', 'chair']\n",
      "/nFind 'sofa':\n",
      "Sofa found!\n"
     ]
    }
   ],
   "source": [
    "furniture_list = [\"table\", \"chair\", \"shelf\", \"sofa\", \"lamp\"]\n",
    "\n",
    "print(\"Whole List:\")\n",
    "print(furniture_list)\n",
    "\n",
    "\n",
    "print(\"/nFirst Two Elements:\")\n",
    "print(furniture_list[:2])\n",
    "\n",
    "print(\"/nFind 'sofa':\")\n",
    "for item in furniture_list:\n",
    "    if item == \"sofa\":\n",
    "        print(\"Sofa found!\")\n",
    "        break \n",
    "\n",
    "else: \n",
    "    print(\"Soda not found in the list.\")"
   ]
  }
 ],
 "metadata": {
  "kernelspec": {
   "display_name": "Python 3",
   "language": "python",
   "name": "python3"
  },
  "language_info": {
   "codemirror_mode": {
    "name": "ipython",
    "version": 3
   },
   "file_extension": ".py",
   "mimetype": "text/x-python",
   "name": "python",
   "nbconvert_exporter": "python",
   "pygments_lexer": "ipython3",
   "version": "3.12.0"
  }
 },
 "nbformat": 4,
 "nbformat_minor": 2
}
