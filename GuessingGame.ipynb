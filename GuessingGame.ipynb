{
 "cells": [
  {
   "cell_type": "code",
   "execution_count": 1,
   "metadata": {},
   "outputs": [],
   "source": [
    "correct_name = \"John\"\n",
    "\n",
    "correct_guess = False\n",
    "\n",
    "while not correct_guess:\n",
    "    user_guess = input(\"Guess the name: \")\n",
    "\n",
    "\n",
    "if user_guess == correct_name:\n",
    "    print(\"Congratulations! You guessed the correct name.\")\n",
    "\n",
    "else: \n",
    "    print(\"Incorrect guess. Try again.\")"
   ]
  }
 ],
 "metadata": {
  "kernelspec": {
   "display_name": "Python 3",
   "language": "python",
   "name": "python3"
  },
  "language_info": {
   "codemirror_mode": {
    "name": "ipython",
    "version": 3
   },
   "file_extension": ".py",
   "mimetype": "text/x-python",
   "name": "python",
   "nbconvert_exporter": "python",
   "pygments_lexer": "ipython3",
   "version": "3.12.0"
  }
 },
 "nbformat": 4,
 "nbformat_minor": 2
}
