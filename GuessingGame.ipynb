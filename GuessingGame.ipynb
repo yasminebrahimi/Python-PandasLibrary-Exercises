{
 "cells": [
  {
   "cell_type": "code",
   "execution_count": 2,
   "metadata": {},
   "outputs": [
    {
     "name": "stdout",
     "output_type": "stream",
     "text": [
      "Congratulations! You guessed it right in 2 guesses.\n"
     ]
    }
   ],
   "source": [
    "import random\n",
    "\n",
    "def guessing_game():\n",
    "    \n",
    "    correct_name = \"John\" \n",
    "    guesses = 0\n",
    "\n",
    "    while True:\n",
    "        user_guess = input(\"Guess the name: \")\n",
    "\n",
    "       \n",
    "        if user_guess.lower() == correct_name.lower():\n",
    "            guesses += 1\n",
    "            print(f\"Congratulations! You guessed it right in {guesses} guesses.\")\n",
    "            break\n",
    "        else:\n",
    "            guesses += 1\n",
    "            quit_game = input(\"Wrong guess. Do you want to quit? (yes/no): \").lower()\n",
    "            if quit_game == \"yes\":\n",
    "                print(f\"The correct name was {correct_name}. You made {guesses} guesses.\")\n",
    "                break\n",
    "\n",
    "\n",
    "guessing_game()\n",
    "\n"
   ]
  }
 ],
 "metadata": {
  "kernelspec": {
   "display_name": "Python 3",
   "language": "python",
   "name": "python3"
  },
  "language_info": {
   "codemirror_mode": {
    "name": "ipython",
    "version": 3
   },
   "file_extension": ".py",
   "mimetype": "text/x-python",
   "name": "python",
   "nbconvert_exporter": "python",
   "pygments_lexer": "ipython3",
   "version": "3.12.0"
  }
 },
 "nbformat": 4,
 "nbformat_minor": 2
}
