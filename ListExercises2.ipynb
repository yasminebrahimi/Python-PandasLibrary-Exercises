{
 "cells": [
  {
   "cell_type": "code",
   "execution_count": 1,
   "metadata": {},
   "outputs": [
    {
     "name": "stdout",
     "output_type": "stream",
     "text": [
      "Thrown Dice Numbers:  [1, 3, 2, 5, 4]\n",
      "Sum of the Thrown Dice Numbers:  15\n",
      "Highest value:  5\n"
     ]
    }
   ],
   "source": [
    "from random import randint\n",
    "\n",
    "thrownDiceNumbers = []\n",
    "\n",
    "for _ in range(5):\n",
    "    thrownDiceNumbers.append(randint(1,6))\n",
    "\n",
    "\n",
    "print(\"Thrown Dice Numbers: \", thrownDiceNumbers)\n",
    "\n",
    "\n",
    "sum_of_numbers = sum(thrownDiceNumbers)\n",
    "print(\"Sum of the Thrown Dice Numbers: \", sum_of_numbers)\n",
    "\n",
    "heighest_value = max(thrownDiceNumbers)\n",
    "print(\"Highest value: \", heighest_value)\n",
    "\n",
    "\n"
   ]
  }
 ],
 "metadata": {
  "kernelspec": {
   "display_name": "Python 3",
   "language": "python",
   "name": "python3"
  },
  "language_info": {
   "codemirror_mode": {
    "name": "ipython",
    "version": 3
   },
   "file_extension": ".py",
   "mimetype": "text/x-python",
   "name": "python",
   "nbconvert_exporter": "python",
   "pygments_lexer": "ipython3",
   "version": "3.12.0"
  }
 },
 "nbformat": 4,
 "nbformat_minor": 2
}
