{
 "cells": [
  {
   "cell_type": "code",
   "execution_count": 1,
   "metadata": {},
   "outputs": [
    {
     "name": "stdout",
     "output_type": "stream",
     "text": [
      "name1 and name2 are not equal\n"
     ]
    }
   ],
   "source": [
    "name1 = \"Sara\"\n",
    "name2 = \"Sofia\" \n",
    "name3 = \"Alex\" \n",
    "\n",
    "if name1 == name2: \n",
    "    print(\"name1 and name2 are equal\")\n",
    "\n",
    "\n",
    "if name1 !=  name2: \n",
    "    print(\"name1 and name2 are not equal\")\n",
    "\n",
    "if name1 == name2:\n",
    "    print(\"name1 and name2 are equal\")\n",
    "\n",
    "elif name1 == name3:\n",
    "    print(\"name1 and name3 are equal\")"
   ]
  }
 ],
 "metadata": {
  "kernelspec": {
   "display_name": "Python 3",
   "language": "python",
   "name": "python3"
  },
  "language_info": {
   "codemirror_mode": {
    "name": "ipython",
    "version": 3
   },
   "file_extension": ".py",
   "mimetype": "text/x-python",
   "name": "python",
   "nbconvert_exporter": "python",
   "pygments_lexer": "ipython3",
   "version": "3.12.0"
  }
 },
 "nbformat": 4,
 "nbformat_minor": 2
}
