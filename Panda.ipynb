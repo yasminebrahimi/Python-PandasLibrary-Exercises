{
 "cells": [
  {
   "cell_type": "code",
   "execution_count": 2,
   "metadata": {},
   "outputs": [],
   "source": [
    "import pandas as pd \n",
    "\n",
    "url = \"https://raw.githubusercontent.com/Ella22011/Analysointi2023/main/lego-sets.csv\"\n",
    "lego_data = pd.read_csv(url)\n"
   ]
  },
  {
   "cell_type": "code",
   "execution_count": 3,
   "metadata": {},
   "outputs": [
    {
     "name": "stdout",
     "output_type": "stream",
     "text": [
      "First Few Rows of the Dataset:\n",
      "        id                 name                 category    year   parts  \\\n",
      "0  21036-1      Arc de Triomphe             Architecture  2017.0   386.0   \n",
      "1  21050-1  Architecture Studio             Architecture  2013.0  1211.0   \n",
      "2  21027-1               Berlin  Architecture > Skylines  2016.0   289.0   \n",
      "3  21013-1              Big Ben             Architecture  2012.0   346.0   \n",
      "4  21029-1    Buckingham Palace             Architecture  2016.0   780.0   \n",
      "\n",
      "                               img_link                            set_link  \\\n",
      "0  /sets/21036-1/12061.jpg/180x180p.jpg      /sets/21036-1/arc-de-triomphe/   \n",
      "1  /sets/21050-1/17335.jpg/180x180p.jpg  /sets/21050-1/architecture-studio/   \n",
      "2  /sets/21027-1/32614.jpg/180x180p.jpg               /sets/21027-1/berlin/   \n",
      "3  /sets/21013-1/13705.jpg/180x180p.jpg              /sets/21013-1/big-ben/   \n",
      "4   /sets/21029-1/7908.jpg/180x180p.jpg    /sets/21029-1/buckingham-palace/   \n",
      "\n",
      "                        raw_price  mean_price  \n",
      "0    ['\\n$73.87\\n', '\\n$73.87\\n']       73.87  \n",
      "1                              []        0.00  \n",
      "2  ['\\n$380.00\\n', '\\n$380.00\\n']      380.00  \n",
      "3                              []        0.00  \n",
      "4  ['\\n$105.12\\n', '\\n$105.12\\n']      105.12  \n"
     ]
    }
   ],
   "source": [
    "print(\"First Few Rows of the Dataset:\")\n",
    "print(lego_data.head())"
   ]
  },
  {
   "cell_type": "code",
   "execution_count": 4,
   "metadata": {},
   "outputs": [
    {
     "name": "stdout",
     "output_type": "stream",
     "text": [
      "Number of Rows and Columns in the Dataset:\n",
      "(5075, 9)\n",
      "\n",
      "First Few Rows of the Dataset:\n",
      "        id                 name                 category    year   parts  \\\n",
      "0  21036-1      Arc de Triomphe             Architecture  2017.0   386.0   \n",
      "1  21050-1  Architecture Studio             Architecture  2013.0  1211.0   \n",
      "2  21027-1               Berlin  Architecture > Skylines  2016.0   289.0   \n",
      "3  21013-1              Big Ben             Architecture  2012.0   346.0   \n",
      "4  21029-1    Buckingham Palace             Architecture  2016.0   780.0   \n",
      "\n",
      "                               img_link                            set_link  \\\n",
      "0  /sets/21036-1/12061.jpg/180x180p.jpg      /sets/21036-1/arc-de-triomphe/   \n",
      "1  /sets/21050-1/17335.jpg/180x180p.jpg  /sets/21050-1/architecture-studio/   \n",
      "2  /sets/21027-1/32614.jpg/180x180p.jpg               /sets/21027-1/berlin/   \n",
      "3  /sets/21013-1/13705.jpg/180x180p.jpg              /sets/21013-1/big-ben/   \n",
      "4   /sets/21029-1/7908.jpg/180x180p.jpg    /sets/21029-1/buckingham-palace/   \n",
      "\n",
      "                        raw_price  mean_price  \n",
      "0    ['\\n$73.87\\n', '\\n$73.87\\n']       73.87  \n",
      "1                              []        0.00  \n",
      "2  ['\\n$380.00\\n', '\\n$380.00\\n']      380.00  \n",
      "3                              []        0.00  \n",
      "4  ['\\n$105.12\\n', '\\n$105.12\\n']      105.12  \n"
     ]
    }
   ],
   "source": [
    "\n",
    "print(\"Number of Rows and Columns in the Dataset:\")\n",
    "print(lego_data.shape)\n",
    "\n",
    "\n",
    "print(\"\\nFirst Few Rows of the Dataset:\")\n",
    "print(lego_data.head())"
   ]
  },
  {
   "cell_type": "code",
   "execution_count": 5,
   "metadata": {},
   "outputs": [
    {
     "name": "stdout",
     "output_type": "stream",
     "text": [
      "Sorted Dataset in Ascending Order based on 'year':\n",
      "         id                            name                  category    year  \\\n",
      "4287  002-1  4.5V Samsonite Gears Motor Set                   Technic  1965.0   \n",
      "4443  001-1                           Gears                   Technic  1965.0   \n",
      "4288  870-1          4.5V Supplementary Set  Technic > Expert Builder  1977.0   \n",
      "4307  853-1                    Auto Chassis  Technic > Expert Builder  1977.0   \n",
      "4640  871-1               Supplementary Set  Technic > Expert Builder  1977.0   \n",
      "\n",
      "      parts                            img_link  \\\n",
      "4287    3.0   /sets/002-1/3643.jpg/180x180p.jpg   \n",
      "4443   43.0  /sets/001-1/11530.jpg/180x180p.jpg   \n",
      "4288   22.0   /sets/870-1/6762.jpg/180x180p.jpg   \n",
      "4307  608.0   /sets/853-1/1398.jpg/180x180p.jpg   \n",
      "4640   78.0   /sets/871-1/8385.jpg/180x180p.jpg   \n",
      "\n",
      "                                        set_link raw_price  mean_price  \n",
      "4287  /sets/002-1/45v-samsonite-gears-motor-set/        []         0.0  \n",
      "4443                          /sets/001-1/gears/        []         0.0  \n",
      "4288          /sets/870-1/45v-supplementary-set/        []         0.0  \n",
      "4307                   /sets/853-1/auto-chassis/        []         0.0  \n",
      "4640              /sets/871-1/supplementary-set/        []         0.0  \n"
     ]
    }
   ],
   "source": [
    "lego_data_sorted = lego_data.sort_values(by='year')\n",
    "\n",
    "\n",
    "print(\"Sorted Dataset in Ascending Order based on 'year':\")\n",
    "print(lego_data_sorted.head())"
   ]
  },
  {
   "cell_type": "code",
   "execution_count": 8,
   "metadata": {},
   "outputs": [
    {
     "name": "stdout",
     "output_type": "stream",
     "text": [
      "DataFrame with the 'name_length' column:\n",
      "        id                 name                 category    year   parts  \\\n",
      "0  21036-1      Arc de Triomphe             Architecture  2017.0   386.0   \n",
      "1  21050-1  Architecture Studio             Architecture  2013.0  1211.0   \n",
      "2  21027-1               Berlin  Architecture > Skylines  2016.0   289.0   \n",
      "3  21013-1              Big Ben             Architecture  2012.0   346.0   \n",
      "4  21029-1    Buckingham Palace             Architecture  2016.0   780.0   \n",
      "\n",
      "                               img_link                            set_link  \\\n",
      "0  /sets/21036-1/12061.jpg/180x180p.jpg      /sets/21036-1/arc-de-triomphe/   \n",
      "1  /sets/21050-1/17335.jpg/180x180p.jpg  /sets/21050-1/architecture-studio/   \n",
      "2  /sets/21027-1/32614.jpg/180x180p.jpg               /sets/21027-1/berlin/   \n",
      "3  /sets/21013-1/13705.jpg/180x180p.jpg              /sets/21013-1/big-ben/   \n",
      "4   /sets/21029-1/7908.jpg/180x180p.jpg    /sets/21029-1/buckingham-palace/   \n",
      "\n",
      "                        raw_price  mean_price  name_length  \n",
      "0    ['\\n$73.87\\n', '\\n$73.87\\n']       73.87           15  \n",
      "1                              []        0.00           19  \n",
      "2  ['\\n$380.00\\n', '\\n$380.00\\n']      380.00            6  \n",
      "3                              []        0.00            7  \n",
      "4  ['\\n$105.12\\n', '\\n$105.12\\n']      105.12           17  \n"
     ]
    }
   ],
   "source": [
    "lego_data['name_length'] = lego_data['name'].apply(len)\n",
    "\n",
    "\n",
    "print(\"DataFrame with the 'name_length' column:\")\n",
    "print(lego_data.head())"
   ]
  }
 ],
 "metadata": {
  "kernelspec": {
   "display_name": "Python 3",
   "language": "python",
   "name": "python3"
  },
  "language_info": {
   "codemirror_mode": {
    "name": "ipython",
    "version": 3
   },
   "file_extension": ".py",
   "mimetype": "text/x-python",
   "name": "python",
   "nbconvert_exporter": "python",
   "pygments_lexer": "ipython3",
   "version": "3.12.0"
  }
 },
 "nbformat": 4,
 "nbformat_minor": 2
}
