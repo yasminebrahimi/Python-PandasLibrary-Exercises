{
 "cells": [
  {
   "cell_type": "code",
   "execution_count": 5,
   "metadata": {},
   "outputs": [
    {
     "name": "stdout",
     "output_type": "stream",
     "text": [
      "number1 is greater than number2 and number3\n",
      "number1 is greater than number2\n",
      "number2 is greater than number3\n"
     ]
    }
   ],
   "source": [
    "number1 = 500\n",
    "number2 = 200\n",
    "number3 = 100\n",
    "\n",
    "\n",
    "if number1 == number2 == number3:\n",
    "    print(\"All numbers are equal\")\n",
    "\n",
    "\n",
    "if (number1 == number2) or (number2 == number3): \n",
    "    print(\"Either number1 and number2 are equal or number2 and number3 are equal\")\n",
    "\n",
    "if number1 > number2 and number1 > number3:\n",
    "    print(\"number1 is greater than number2 and number3\")\n",
    "\n",
    "if number1 > number2:\n",
    "    print(\"number1 is greater than number2\")\n",
    "\n",
    "if number2 > number3:\n",
    "    print(\"number2 is greater than number3\")\n",
    "\n",
    "if number1 == number2:  \n",
    "    print(\"number1 and number2 are equal\")\n",
    "\n",
    "elif number1 == number3:\n",
    "    print(\"number1 and number3 are equal\")\n",
    "\n"
   ]
  }
 ],
 "metadata": {
  "kernelspec": {
   "display_name": "Python 3",
   "language": "python",
   "name": "python3"
  },
  "language_info": {
   "codemirror_mode": {
    "name": "ipython",
    "version": 3
   },
   "file_extension": ".py",
   "mimetype": "text/x-python",
   "name": "python",
   "nbconvert_exporter": "python",
   "pygments_lexer": "ipython3",
   "version": "3.12.0"
  }
 },
 "nbformat": 4,
 "nbformat_minor": 2
}
